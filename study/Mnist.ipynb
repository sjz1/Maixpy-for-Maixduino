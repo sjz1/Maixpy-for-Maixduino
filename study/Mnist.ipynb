{
 "cells": [
  {
   "cell_type": "markdown",
   "id": "a934ad10",
   "metadata": {},
   "source": [
    "# Basic MNIST"
   ]
  },
  {
   "cell_type": "code",
   "execution_count": 2,
   "id": "809e1c7a",
   "metadata": {},
   "outputs": [
    {
     "name": "stderr",
     "output_type": "stream",
     "text": [
      "C:\\Users\\tmdwh\\.conda\\envs\\vir_project2\\lib\\site-packages\\numpy\\_distributor_init.py:30: UserWarning: loaded more than 1 DLL from .libs:\n",
      "C:\\Users\\tmdwh\\.conda\\envs\\vir_project2\\lib\\site-packages\\numpy\\.libs\\libopenblas.PYQHXLVVQ7VESDPUVUADXEVJOBGHJPAY.gfortran-win_amd64.dll\n",
      "C:\\Users\\tmdwh\\.conda\\envs\\vir_project2\\lib\\site-packages\\numpy\\.libs\\libopenblas.WCDJNK7YVMPZQ2ME2ZZHJJRJ3JIKNDB7.gfortran-win_amd64.dll\n",
      "  warnings.warn(\"loaded more than 1 DLL from .libs:\\n%s\" %\n"
     ]
    }
   ],
   "source": [
    "import tensorflow as tf\n",
    "import numpy as np\n",
    "import matplotlib.pyplot as plt "
   ]
  },
  {
   "cell_type": "code",
   "execution_count": 32,
   "id": "9e572ba1",
   "metadata": {},
   "outputs": [],
   "source": [
    "##Data preparation ##\n",
    "(x_train,y_train), (x_test, y_test) = tf.keras.datasets.mnist.load_data()"
   ]
  },
  {
   "cell_type": "code",
   "execution_count": 33,
   "id": "012207cf",
   "metadata": {},
   "outputs": [
    {
     "data": {
      "text/plain": [
       "(60000, 28, 28)"
      ]
     },
     "execution_count": 33,
     "metadata": {},
     "output_type": "execute_result"
    }
   ],
   "source": [
    "# 28 x 28 image 60000개\n",
    "x_train.shape"
   ]
  },
  {
   "cell_type": "code",
   "execution_count": 34,
   "id": "f7cf3b5a",
   "metadata": {},
   "outputs": [
    {
     "data": {
      "text/plain": [
       "5"
      ]
     },
     "execution_count": 34,
     "metadata": {},
     "output_type": "execute_result"
    },
    {
     "data": {
      "image/png": "[encoded data removed]",
      "text/plain": [
       "<Figure size 144x144 with 1 Axes>"
      ]
     },
     "metadata": {
      "needs_background": "light"
     },
     "output_type": "display_data"
    }
   ],
   "source": [
    "plt.figure(figsize=(2, 2)) #그래프의 크기조절\n",
    "plt.imshow(x_train[0],cmap='gray')\n",
    "y_train[0]"
   ]
  },
  {
   "cell_type": "code",
   "execution_count": 35,
   "id": "9d4848cc",
   "metadata": {},
   "outputs": [
    {
     "data": {
      "text/plain": [
       "(60000, 784)"
      ]
     },
     "execution_count": 35,
     "metadata": {},
     "output_type": "execute_result"
    }
   ],
   "source": [
    "x_train,x_test = x_train.reshape(-1,28*28), x_test.reshape(-1,28*28)\n",
    "y_train,y_test = tf.keras.utils.to_categorical(y_train),tf.keras.utils.to_categorical(y_test)\n",
    "# output의 형태를 맞춰주기 위해서 바꿔줌\n",
    "x_train.shape"
   ]
  },
  {
   "cell_type": "code",
   "execution_count": 36,
   "id": "dc75315e",
   "metadata": {},
   "outputs": [
    {
     "data": {
      "text/plain": [
       "array([[0., 0., 0., ..., 0., 0., 0.],\n",
       "       [1., 0., 0., ..., 0., 0., 0.],\n",
       "       [0., 0., 0., ..., 0., 0., 0.],\n",
       "       ...,\n",
       "       [0., 0., 0., ..., 0., 0., 0.],\n",
       "       [0., 0., 0., ..., 0., 0., 0.],\n",
       "       [0., 0., 0., ..., 0., 1., 0.]], dtype=float32)"
      ]
     },
     "execution_count": 36,
     "metadata": {},
     "output_type": "execute_result"
    }
   ],
   "source": [
    "y_train"
   ]
  },
  {
   "cell_type": "code",
   "execution_count": 37,
   "id": "eec73837",
   "metadata": {},
   "outputs": [
    {
     "data": {
      "text/plain": [
       "255"
      ]
     },
     "execution_count": 37,
     "metadata": {},
     "output_type": "execute_result"
    }
   ],
   "source": [
    "x_train.max()"
   ]
  },
  {
   "cell_type": "code",
   "execution_count": 38,
   "id": "2e8ddbc6",
   "metadata": {},
   "outputs": [],
   "source": [
    "x_train, x_test = x_train/255.0, x_test/255.0"
   ]
  },
  {
   "cell_type": "code",
   "execution_count": 39,
   "id": "b31c4622",
   "metadata": {},
   "outputs": [],
   "source": [
    "## model make ##\n",
    "model = tf.keras.models.Sequential()\n",
    "model.add(tf.keras.layers.Dense(64,activation = 'relu', input_shape= (28*28,)))\n",
    "# (784,) -> 784행 열은 모두가 60000개가 들어간다\n",
    "model.add(tf.keras.layers.Dense(10,activation = 'softmax'))\n",
    "\n",
    "model.compile(optimizer = 'adam', loss = 'categorical_crossentropy',metrics = ['accuracy'])"
   ]
  },
  {
   "cell_type": "code",
   "execution_count": 40,
   "id": "846307a5",
   "metadata": {},
   "outputs": [
    {
     "name": "stdout",
     "output_type": "stream",
     "text": [
      "Model: \"sequential_4\"\n",
      "_________________________________________________________________\n",
      "Layer (type)                 Output Shape              Param #   \n",
      "=================================================================\n",
      "dense_8 (Dense)              (None, 64)                50240     \n",
      "_________________________________________________________________\n",
      "dense_9 (Dense)              (None, 10)                650       \n",
      "=================================================================\n",
      "Total params: 50,890\n",
      "Trainable params: 50,890\n",
      "Non-trainable params: 0\n",
      "_________________________________________________________________\n"
     ]
    }
   ],
   "source": [
    "model.summary()"
   ]
  },
  {
   "cell_type": "code",
   "execution_count": 41,
   "id": "a087d0de",
   "metadata": {},
   "outputs": [
    {
     "name": "stdout",
     "output_type": "stream",
     "text": [
      "Epoch 1/10\n",
      "938/938 [==============================] - 15s 15ms/step - loss: 0.3425 - accuracy: 0.9039 - val_loss: 0.1919 - val_accuracy: 0.9452\n",
      "Epoch 2/10\n",
      "938/938 [==============================] - 14s 14ms/step - loss: 0.1709 - accuracy: 0.9509 - val_loss: 0.1478 - val_accuracy: 0.9547\n",
      "Epoch 3/10\n",
      "938/938 [==============================] - 13s 14ms/step - loss: 0.1282 - accuracy: 0.9623 - val_loss: 0.1250 - val_accuracy: 0.9632\n",
      "Epoch 4/10\n",
      "938/938 [==============================] - 10s 10ms/step - loss: 0.1020 - accuracy: 0.9700 - val_loss: 0.1108 - val_accuracy: 0.9671\n",
      "Epoch 5/10\n",
      "938/938 [==============================] - 8s 9ms/step - loss: 0.0841 - accuracy: 0.9752 - val_loss: 0.0984 - val_accuracy: 0.9702\n",
      "Epoch 6/10\n",
      "938/938 [==============================] - 8s 8ms/step - loss: 0.0713 - accuracy: 0.9791 - val_loss: 0.0944 - val_accuracy: 0.9718\n",
      "Epoch 7/10\n",
      "938/938 [==============================] - 8s 9ms/step - loss: 0.0627 - accuracy: 0.9814 - val_loss: 0.0970 - val_accuracy: 0.9716\n",
      "Epoch 8/10\n",
      "938/938 [==============================] - 8s 9ms/step - loss: 0.0536 - accuracy: 0.9840 - val_loss: 0.0907 - val_accuracy: 0.9729\n",
      "Epoch 9/10\n",
      "938/938 [==============================] - 8s 8ms/step - loss: 0.0472 - accuracy: 0.9859 - val_loss: 0.0829 - val_accuracy: 0.9742\n",
      "Epoch 10/10\n",
      "938/938 [==============================] - 8s 8ms/step - loss: 0.0410 - accuracy: 0.9879 - val_loss: 0.0889 - val_accuracy: 0.9737\n"
     ]
    },
    {
     "data": {
      "text/plain": [
       "<keras.callbacks.History at 0x241e74f4cd0>"
      ]
     },
     "execution_count": 41,
     "metadata": {},
     "output_type": "execute_result"
    }
   ],
   "source": [
    "model.fit(x_train, y_train, batch_size = 64, epochs= 10, validation_data = (x_test,y_test) ) #64개씩 돌릴 거다"
   ]
  },
  {
   "cell_type": "code",
   "execution_count": 44,
   "id": "ddb91b5d",
   "metadata": {},
   "outputs": [],
   "source": [
    "test_prediction = model.predict(x_test[0].reshape(-1,784))"
   ]
  },
  {
   "cell_type": "code",
   "execution_count": 45,
   "id": "1f990e1f",
   "metadata": {},
   "outputs": [
    {
     "data": {
      "text/plain": [
       "array([[1.2008404e-08, 2.9525642e-12, 1.1728593e-05, 5.2164623e-04,\n",
       "        4.6261342e-11, 4.1706727e-09, 1.8270933e-15, 9.9946266e-01,\n",
       "        1.7440663e-06, 2.1933586e-06]], dtype=float32)"
      ]
     },
     "execution_count": 45,
     "metadata": {},
     "output_type": "execute_result"
    }
   ],
   "source": [
    "test_prediction"
   ]
  },
  {
   "cell_type": "markdown",
   "id": "df9742af",
   "metadata": {},
   "source": [
    "# Basic CNN with MNIST"
   ]
  },
  {
   "cell_type": "code",
   "execution_count": 3,
   "id": "3d03c1f3",
   "metadata": {},
   "outputs": [],
   "source": [
    "##Data preparation ##\n",
    "(x_train,y_train), (x_test, y_test) = tf.keras.datasets.mnist.load_data()"
   ]
  },
  {
   "cell_type": "code",
   "execution_count": 4,
   "id": "9332a038",
   "metadata": {},
   "outputs": [],
   "source": [
    "## Normalization ##\n",
    "x_train, x_test = x_train/255.0, x_test/255.0\n",
    "\n",
    "##categorical\n",
    "y_train, y_test = tf.keras.utils.to_categorical(y_train),tf.keras.utils.to_categorical(y_test)"
   ]
  },
  {
   "cell_type": "code",
   "execution_count": 5,
   "id": "b8192a94",
   "metadata": {},
   "outputs": [],
   "source": [
    "## making model ##\n",
    "model = tf.keras.models.Sequential([\n",
    "    tf.keras.layers.Reshape((28,28,1),input_shape = (28,28)), # 28,28,1 인 이유 공간은 만들어놓기 위해\n",
    "    tf.keras.layers.Conv2D(16,kernel_size = (3,3),padding = 'VALID', activation= 'relu'), #26x26x16\n",
    "    tf.keras.layers.Conv2D(32,kernel_size = (3,3),padding = 'VALID', activation= 'relu'), #24x24x32\n",
    "    tf.keras.layers.MaxPool2D((2,2)), #12x12x32\n",
    "    tf.keras.layers.Conv2D(64,kernel_size = (3,3),padding = 'VALID', activation= 'relu'), #10x10x64\n",
    "    tf.keras.layers.Flatten(), #input -> 6400개\n",
    "    tf.keras.layers.Dense(1024,activation='relu'), #6400 -> 1024\n",
    "    tf.keras.layers.Dense(10,activation='softmax'), #1024 -> 10\n",
    "])"
   ]
  },
  {
   "cell_type": "code",
   "execution_count": 6,
   "id": "9f617413",
   "metadata": {},
   "outputs": [],
   "source": [
    "model.compile(optimizer='adam',loss = 'categorical_crossentropy', metrics = ['accuracy'])"
   ]
  },
  {
   "cell_type": "code",
   "execution_count": 7,
   "id": "ab3e827e",
   "metadata": {},
   "outputs": [
    {
     "name": "stdout",
     "output_type": "stream",
     "text": [
      "Model: \"sequential\"\n",
      "_________________________________________________________________\n",
      "Layer (type)                 Output Shape              Param #   \n",
      "=================================================================\n",
      "reshape (Reshape)            (None, 28, 28, 1)         0         \n",
      "_________________________________________________________________\n",
      "conv2d (Conv2D)              (None, 26, 26, 16)        160       \n",
      "_________________________________________________________________\n",
      "conv2d_1 (Conv2D)            (None, 24, 24, 32)        4640      \n",
      "_________________________________________________________________\n",
      "max_pooling2d (MaxPooling2D) (None, 12, 12, 32)        0         \n",
      "_________________________________________________________________\n",
      "conv2d_2 (Conv2D)            (None, 10, 10, 64)        18496     \n",
      "_________________________________________________________________\n",
      "flatten (Flatten)            (None, 6400)              0         \n",
      "_________________________________________________________________\n",
      "dense (Dense)                (None, 1024)              6554624   \n",
      "_________________________________________________________________\n",
      "dense_1 (Dense)              (None, 10)                10250     \n",
      "=================================================================\n",
      "Total params: 6,588,170\n",
      "Trainable params: 6,588,170\n",
      "Non-trainable params: 0\n",
      "_________________________________________________________________\n"
     ]
    }
   ],
   "source": [
    "model.summary()"
   ]
  },
  {
   "cell_type": "code",
   "execution_count": null,
   "id": "0158fa5f",
   "metadata": {},
   "outputs": [
    {
     "name": "stdout",
     "output_type": "stream",
     "text": [
      "Epoch 1/2\n"
     ]
    }
   ],
   "source": [
    "## Training ##\n",
    "model.fit(x_train,y_train, batch_size = 32, epochs = 2, validation_data =(x_test,y_test))"
   ]
  },
  {
   "cell_type": "code",
   "execution_count": null,
   "id": "36a92437",
   "metadata": {},
   "outputs": [],
   "source": [
    "test_prediction = model.predict(x_test[0].reshape(1,28,28))"
   ]
  },
  {
   "cell_type": "code",
   "execution_count": null,
   "id": "39ac2a02",
   "metadata": {},
   "outputs": [],
   "source": []
  }
 ],
 "metadata": {
  "kernelspec": {
   "display_name": "ai_project2",
   "language": "python",
   "name": "ai_project2"
  },
  "language_info": {
   "codemirror_mode": {
    "name": "ipython",
    "version": 3
   },
   "file_extension": ".py",
   "mimetype": "text/x-python",
   "name": "python",
   "nbconvert_exporter": "python",
   "pygments_lexer": "ipython3",
   "version": "3.8.13"
  }
 },
 "nbformat": 4,
 "nbformat_minor": 5
}
